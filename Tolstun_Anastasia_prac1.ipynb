{
 "cells": [
  {
   "cell_type": "code",
   "execution_count": 1,
   "metadata": {},
   "outputs": [],
   "source": [
    "import os\n",
    "import time\n",
    "from tqdm import tqdm_notebook # не обязательный\n",
    "import numpy as np\n",
    "import pandas as pd\n",
    "import matplotlib\n",
    "import matplotlib.pyplot as plt\n",
    "%matplotlib inline\n",
    "import seaborn as sns"
   ]
  },
  {
   "cell_type": "code",
   "execution_count": 2,
   "metadata": {},
   "outputs": [],
   "source": [
    "# Делает графики удобного размера\n",
    "matplotlib.rcParams['figure.figsize'] = (8, 8)\n",
    "# Делает красивый грид на графиках\n",
    "sns.set_style('whitegrid')"
   ]
  },
  {
   "cell_type": "markdown",
   "metadata": {},
   "source": [
    "### Pandas"
   ]
  },
  {
   "cell_type": "markdown",
   "metadata": {},
   "source": [
    "Для выполнения этого блока заданий вам понадобится файл <<Данные для практической работы №1>>"
   ]
  },
  {
   "cell_type": "code",
   "execution_count": 3,
   "metadata": {},
   "outputs": [],
   "source": [
    "# Загрузите данные в переменную dat и выведите размер датафрейма и первые 5 строк\n",
    "# здесь ваш код:"
   ]
  },
  {
   "cell_type": "code",
   "execution_count": 4,
   "metadata": {
    "scrolled": true
   },
   "outputs": [],
   "source": [
    "dat = pd.read_csv('/Users/anastasiatolstun/Desktop/питон/view.php.csv')"
   ]
  },
  {
   "cell_type": "code",
   "execution_count": 5,
   "metadata": {},
   "outputs": [
    {
     "data": {
      "text/plain": [
       "(4622, 5)"
      ]
     },
     "execution_count": 5,
     "metadata": {},
     "output_type": "execute_result"
    }
   ],
   "source": [
    "dat.shape"
   ]
  },
  {
   "cell_type": "code",
   "execution_count": 6,
   "metadata": {},
   "outputs": [
    {
     "data": {
      "text/html": [
       "<div>\n",
       "<style scoped>\n",
       "    .dataframe tbody tr th:only-of-type {\n",
       "        vertical-align: middle;\n",
       "    }\n",
       "\n",
       "    .dataframe tbody tr th {\n",
       "        vertical-align: top;\n",
       "    }\n",
       "\n",
       "    .dataframe thead th {\n",
       "        text-align: right;\n",
       "    }\n",
       "</style>\n",
       "<table border=\"1\" class=\"dataframe\">\n",
       "  <thead>\n",
       "    <tr style=\"text-align: right;\">\n",
       "      <th></th>\n",
       "      <th>order_id</th>\n",
       "      <th>quantity</th>\n",
       "      <th>item_name</th>\n",
       "      <th>choice_description</th>\n",
       "      <th>item_price</th>\n",
       "    </tr>\n",
       "  </thead>\n",
       "  <tbody>\n",
       "    <tr>\n",
       "      <th>0</th>\n",
       "      <td>1</td>\n",
       "      <td>1</td>\n",
       "      <td>Chips and Fresh Tomato Salsa</td>\n",
       "      <td>NaN</td>\n",
       "      <td>$2.39</td>\n",
       "    </tr>\n",
       "    <tr>\n",
       "      <th>1</th>\n",
       "      <td>1</td>\n",
       "      <td>1</td>\n",
       "      <td>Izze</td>\n",
       "      <td>[Clementine]</td>\n",
       "      <td>$3.39</td>\n",
       "    </tr>\n",
       "    <tr>\n",
       "      <th>2</th>\n",
       "      <td>1</td>\n",
       "      <td>1</td>\n",
       "      <td>Nantucket Nectar</td>\n",
       "      <td>[Apple]</td>\n",
       "      <td>$3.39</td>\n",
       "    </tr>\n",
       "    <tr>\n",
       "      <th>3</th>\n",
       "      <td>1</td>\n",
       "      <td>1</td>\n",
       "      <td>Chips and Tomatillo-Green Chili Salsa</td>\n",
       "      <td>NaN</td>\n",
       "      <td>$2.39</td>\n",
       "    </tr>\n",
       "    <tr>\n",
       "      <th>4</th>\n",
       "      <td>2</td>\n",
       "      <td>2</td>\n",
       "      <td>Chicken Bowl</td>\n",
       "      <td>[Tomatillo-Red Chili Salsa (Hot), [Black Beans...</td>\n",
       "      <td>$16.98</td>\n",
       "    </tr>\n",
       "  </tbody>\n",
       "</table>\n",
       "</div>"
      ],
      "text/plain": [
       "   order_id  quantity                              item_name  \\\n",
       "0         1         1           Chips and Fresh Tomato Salsa   \n",
       "1         1         1                                   Izze   \n",
       "2         1         1                       Nantucket Nectar   \n",
       "3         1         1  Chips and Tomatillo-Green Chili Salsa   \n",
       "4         2         2                           Chicken Bowl   \n",
       "\n",
       "                                  choice_description item_price  \n",
       "0                                                NaN     $2.39   \n",
       "1                                       [Clementine]     $3.39   \n",
       "2                                            [Apple]     $3.39   \n",
       "3                                                NaN     $2.39   \n",
       "4  [Tomatillo-Red Chili Salsa (Hot), [Black Beans...    $16.98   "
      ]
     },
     "execution_count": 6,
     "metadata": {},
     "output_type": "execute_result"
    }
   ],
   "source": [
    "dat.head(5)"
   ]
  },
  {
   "cell_type": "code",
   "execution_count": 7,
   "metadata": {},
   "outputs": [],
   "source": [
    "# Сколько пропусков в каждой из колонок (NaN) [1 балл]\n",
    "# здесь ваш код:"
   ]
  },
  {
   "cell_type": "code",
   "execution_count": 8,
   "metadata": {},
   "outputs": [
    {
     "data": {
      "text/plain": [
       "order_id                 0\n",
       "quantity                 0\n",
       "item_name                0\n",
       "choice_description    1246\n",
       "item_price               0\n",
       "dtype: int64"
      ]
     },
     "execution_count": 8,
     "metadata": {},
     "output_type": "execute_result"
    }
   ],
   "source": [
    "dat.isnull().sum()"
   ]
  },
  {
   "cell_type": "code",
   "execution_count": 9,
   "metadata": {},
   "outputs": [],
   "source": [
    "# Напечатать таблицу с 2 колонками: 1 - уникальные значения quantity, 2 - сколько раз каждое такое значение встречается [1 балл]\n",
    "# (выведите их отсортированными по значениям quantity в возрастающем порядке)\n",
    "# здесь ваш код:"
   ]
  },
  {
   "cell_type": "code",
   "execution_count": 10,
   "metadata": {},
   "outputs": [
    {
     "data": {
      "text/plain": [
       "1     4296\n",
       "2      224\n",
       "3       28\n",
       "4       10\n",
       "5        1\n",
       "7        1\n",
       "8        1\n",
       "10       1\n",
       "15       1\n",
       "Name: quantity, dtype: int64"
      ]
     },
     "execution_count": 10,
     "metadata": {},
     "output_type": "execute_result"
    }
   ],
   "source": [
    "dat.drop_duplicates().quantity.value_counts().sort_index()"
   ]
  },
  {
   "cell_type": "code",
   "execution_count": 11,
   "metadata": {},
   "outputs": [],
   "source": [
    "# Напечатать таблицу с 2 колонками: 1 - уникальные значения item_name, 2 - сколько раз каждое такое значение встречается [1 балл]\n",
    "# (выведите их отсортированными по значениям встречаемости в возрастающем порядке)\n",
    "# здесь ваш код:"
   ]
  },
  {
   "cell_type": "code",
   "execution_count": 12,
   "metadata": {
    "scrolled": true
   },
   "outputs": [
    {
     "data": {
      "text/plain": [
       "Veggie Crispy Tacos                        1\n",
       "Chips and Mild Fresh Tomato Salsa          1\n",
       "Carnitas Salad                             1\n",
       "Salad                                      2\n",
       "Bowl                                       2\n",
       "Crispy Tacos                               2\n",
       "Steak Salad                                4\n",
       "Carnitas Salad Bowl                        6\n",
       "Burrito                                    6\n",
       "Veggie Salad                               6\n",
       "Veggie Soft Tacos                          7\n",
       "Carnitas Crispy Tacos                      7\n",
       "Chicken Salad                              9\n",
       "Barbacoa Salad Bowl                        9\n",
       "Barbacoa Crispy Tacos                     11\n",
       "Chips and Roasted Chili-Corn Salsa        18\n",
       "Veggie Salad Bowl                         18\n",
       "Izze                                      19\n",
       "Chips and Tomatillo-Red Chili Salsa       19\n",
       "Chips and Roasted Chili Corn Salsa        22\n",
       "Barbacoa Soft Tacos                       25\n",
       "Nantucket Nectar                          27\n",
       "Steak Salad Bowl                          29\n",
       "Chips and Tomatillo-Green Chili Salsa     31\n",
       "Steak Crispy Tacos                        35\n",
       "Carnitas Soft Tacos                       40\n",
       "Chips and Tomatillo Green Chili Salsa     43\n",
       "Chips and Tomatillo Red Chili Salsa       46\n",
       "Chicken Crispy Tacos                      47\n",
       "6 Pack Soft Drink                         54\n",
       "Steak Soft Tacos                          55\n",
       "Carnitas Burrito                          59\n",
       "Barbacoa Bowl                             65\n",
       "Carnitas Bowl                             68\n",
       "Veggie Bowl                               85\n",
       "Barbacoa Burrito                          90\n",
       "Veggie Burrito                            95\n",
       "Side of Chips                            101\n",
       "Canned Soda                              102\n",
       "Chips and Fresh Tomato Salsa             110\n",
       "Chicken Salad Bowl                       110\n",
       "Chicken Soft Tacos                       111\n",
       "Bottled Water                            155\n",
       "Chips                                    208\n",
       "Steak Bowl                               210\n",
       "Canned Soft Drink                        290\n",
       "Steak Burrito                            365\n",
       "Chips and Guacamole                      474\n",
       "Chicken Burrito                          546\n",
       "Chicken Bowl                             717\n",
       "Name: item_name, dtype: int64"
      ]
     },
     "execution_count": 12,
     "metadata": {},
     "output_type": "execute_result"
    }
   ],
   "source": [
    "dat.drop_duplicates().item_name.value_counts().sort_values(ascending=True)"
   ]
  },
  {
   "cell_type": "code",
   "execution_count": 13,
   "metadata": {},
   "outputs": [],
   "source": [
    "# Сделайте item_price типом float  (Подсказка: надо удалить знаки $) [2 балла]\n",
    "# здесь ваш код:"
   ]
  },
  {
   "cell_type": "code",
   "execution_count": 14,
   "metadata": {},
   "outputs": [],
   "source": [
    "dat['item_price'] = dat['item_price'].str.replace('$','').astype(float)"
   ]
  },
  {
   "cell_type": "code",
   "execution_count": 15,
   "metadata": {},
   "outputs": [
    {
     "data": {
      "text/plain": [
       "0        2.39\n",
       "1        3.39\n",
       "2        3.39\n",
       "3        2.39\n",
       "4       16.98\n",
       "5       10.98\n",
       "6        1.69\n",
       "7       11.75\n",
       "8        9.25\n",
       "9        9.25\n",
       "10       4.45\n",
       "11       8.75\n",
       "12       8.75\n",
       "13      11.25\n",
       "14       4.45\n",
       "15       2.39\n",
       "16       8.49\n",
       "17       8.49\n",
       "18       2.18\n",
       "19       8.75\n",
       "20       4.45\n",
       "21       8.99\n",
       "22       3.39\n",
       "23      10.98\n",
       "24       3.39\n",
       "25       2.39\n",
       "26       8.49\n",
       "27       8.99\n",
       "28       1.09\n",
       "29       8.49\n",
       "        ...  \n",
       "4592    11.75\n",
       "4593    11.75\n",
       "4594    11.75\n",
       "4595     8.75\n",
       "4596     4.45\n",
       "4597     1.25\n",
       "4598     1.50\n",
       "4599     8.75\n",
       "4600     4.45\n",
       "4601     1.25\n",
       "4602     9.25\n",
       "4603     9.25\n",
       "4604     8.75\n",
       "4605     4.45\n",
       "4606     1.25\n",
       "4607    11.75\n",
       "4608    11.25\n",
       "4609     1.25\n",
       "4610    11.75\n",
       "4611    11.25\n",
       "4612     9.25\n",
       "4613     2.15\n",
       "4614     1.50\n",
       "4615     8.75\n",
       "4616     4.45\n",
       "4617    11.75\n",
       "4618    11.75\n",
       "4619    11.25\n",
       "4620     8.75\n",
       "4621     8.75\n",
       "Name: item_price, Length: 4622, dtype: float64"
      ]
     },
     "execution_count": 15,
     "metadata": {},
     "output_type": "execute_result"
    }
   ],
   "source": [
    "dat['item_price']"
   ]
  },
  {
   "cell_type": "code",
   "execution_count": 16,
   "metadata": {},
   "outputs": [],
   "source": [
    "# Создайте колонку one_item_price - стоимость одной порции блюда, которая будет равна item_price/quantity [1 балл]\n",
    "# здесь ваш код:"
   ]
  },
  {
   "cell_type": "code",
   "execution_count": 17,
   "metadata": {},
   "outputs": [],
   "source": [
    "dat['one_item_price'] = dat.item_price / dat.quantity"
   ]
  },
  {
   "cell_type": "code",
   "execution_count": 18,
   "metadata": {
    "scrolled": true
   },
   "outputs": [
    {
     "data": {
      "text/plain": [
       "0    2.39\n",
       "1    3.39\n",
       "2    3.39\n",
       "3    2.39\n",
       "4    8.49\n",
       "Name: one_item_price, dtype: float64"
      ]
     },
     "execution_count": 18,
     "metadata": {},
     "output_type": "execute_result"
    }
   ],
   "source": [
    "dat.one_item_price[:5]"
   ]
  },
  {
   "cell_type": "code",
   "execution_count": 19,
   "metadata": {},
   "outputs": [],
   "source": [
    "# Создайте датафрейм из 3 колонок: 1 - уникальные item_name, 2 - минимальная цена(one_item_price), 3 - максимальная цена(one_item_price) [2 балла]\n",
    "# Отсортируйте этот датафрейм по убыванию значения максимальной цены (one_item_price)\n",
    "# Сохраните полученный датафрейм в переменную dat_gr и напечатайте его первые 5 строк\n",
    "# здесь ваш код:"
   ]
  },
  {
   "cell_type": "code",
   "execution_count": 20,
   "metadata": {},
   "outputs": [],
   "source": [
    "unique_item_names = np.unique(dat.item_name)"
   ]
  },
  {
   "cell_type": "code",
   "execution_count": 21,
   "metadata": {},
   "outputs": [],
   "source": [
    "min_one_item_price, max_one_item_price = [], []\n",
    "for unique_item in unique_item_names:\n",
    "    one_item_price_for_one = dat[dat[\"item_name\"] == unique_item][\"one_item_price\"]\n",
    "    min_one_item_price.append(min(one_item_price_for_one))\n",
    "    max_one_item_price.append(max(one_item_price_for_one))"
   ]
  },
  {
   "cell_type": "code",
   "execution_count": 22,
   "metadata": {},
   "outputs": [],
   "source": [
    "my_data = np.array([unique_item_names, min_one_item_price, max_one_item_price]).T\n",
    "my_columns = [\"item_name\", \"min_one_item_price\", \"max_one_item_price\"]\n",
    "dat_gr = pd.DataFrame(data=my_data, columns=my_columns)"
   ]
  },
  {
   "cell_type": "code",
   "execution_count": 23,
   "metadata": {},
   "outputs": [],
   "source": [
    "dat_gr = dat_gr.sort_values(by=\"max_one_item_price\", ascending=False)"
   ]
  },
  {
   "cell_type": "code",
   "execution_count": 24,
   "metadata": {},
   "outputs": [
    {
     "data": {
      "text/html": [
       "<div>\n",
       "<style scoped>\n",
       "    .dataframe tbody tr th:only-of-type {\n",
       "        vertical-align: middle;\n",
       "    }\n",
       "\n",
       "    .dataframe tbody tr th {\n",
       "        vertical-align: top;\n",
       "    }\n",
       "\n",
       "    .dataframe thead th {\n",
       "        text-align: right;\n",
       "    }\n",
       "</style>\n",
       "<table border=\"1\" class=\"dataframe\">\n",
       "  <thead>\n",
       "    <tr style=\"text-align: right;\">\n",
       "      <th></th>\n",
       "      <th>item_name</th>\n",
       "      <th>min_one_item_price</th>\n",
       "      <th>max_one_item_price</th>\n",
       "    </tr>\n",
       "  </thead>\n",
       "  <tbody>\n",
       "    <tr>\n",
       "      <th>42</th>\n",
       "      <td>Steak Salad Bowl</td>\n",
       "      <td>9.39</td>\n",
       "      <td>11.89</td>\n",
       "    </tr>\n",
       "    <tr>\n",
       "      <th>15</th>\n",
       "      <td>Carnitas Salad Bowl</td>\n",
       "      <td>9.39</td>\n",
       "      <td>11.89</td>\n",
       "    </tr>\n",
       "    <tr>\n",
       "      <th>4</th>\n",
       "      <td>Barbacoa Salad Bowl</td>\n",
       "      <td>9.39</td>\n",
       "      <td>11.89</td>\n",
       "    </tr>\n",
       "    <tr>\n",
       "      <th>43</th>\n",
       "      <td>Steak Soft Tacos</td>\n",
       "      <td>8.99</td>\n",
       "      <td>11.75</td>\n",
       "    </tr>\n",
       "    <tr>\n",
       "      <th>1</th>\n",
       "      <td>Barbacoa Bowl</td>\n",
       "      <td>8.69</td>\n",
       "      <td>11.75</td>\n",
       "    </tr>\n",
       "  </tbody>\n",
       "</table>\n",
       "</div>"
      ],
      "text/plain": [
       "              item_name min_one_item_price max_one_item_price\n",
       "42     Steak Salad Bowl               9.39              11.89\n",
       "15  Carnitas Salad Bowl               9.39              11.89\n",
       "4   Barbacoa Salad Bowl               9.39              11.89\n",
       "43     Steak Soft Tacos               8.99              11.75\n",
       "1         Barbacoa Bowl               8.69              11.75"
      ]
     },
     "execution_count": 24,
     "metadata": {},
     "output_type": "execute_result"
    }
   ],
   "source": [
    "dat_gr.head(5)"
   ]
  },
  {
   "cell_type": "code",
   "execution_count": 25,
   "metadata": {},
   "outputs": [],
   "source": [
    "# Отсортируйте dat_gr по значению разницы между максимальной и минимальной ценами в убывающем порядке [2 балла]\n",
    "# здесь ваш код:"
   ]
  },
  {
   "cell_type": "code",
   "execution_count": 26,
   "metadata": {},
   "outputs": [],
   "source": [
    "dat_gr[\"diff\"] = dat_gr[\"max_one_item_price\"] - dat_gr[\"min_one_item_price\"]"
   ]
  },
  {
   "cell_type": "code",
   "execution_count": 27,
   "metadata": {
    "scrolled": true
   },
   "outputs": [],
   "source": [
    "dat_gr = dat_gr.sort_values(by = 'diff', ascending = True)\n",
    "dat_gr = dat_gr.drop(\"diff\", axis=1)"
   ]
  },
  {
   "cell_type": "code",
   "execution_count": 28,
   "metadata": {},
   "outputs": [
    {
     "data": {
      "text/html": [
       "<div>\n",
       "<style scoped>\n",
       "    .dataframe tbody tr th:only-of-type {\n",
       "        vertical-align: middle;\n",
       "    }\n",
       "\n",
       "    .dataframe tbody tr th {\n",
       "        vertical-align: top;\n",
       "    }\n",
       "\n",
       "    .dataframe thead th {\n",
       "        text-align: right;\n",
       "    }\n",
       "</style>\n",
       "<table border=\"1\" class=\"dataframe\">\n",
       "  <thead>\n",
       "    <tr style=\"text-align: right;\">\n",
       "      <th></th>\n",
       "      <th>item_name</th>\n",
       "      <th>min_one_item_price</th>\n",
       "      <th>max_one_item_price</th>\n",
       "    </tr>\n",
       "  </thead>\n",
       "  <tbody>\n",
       "    <tr>\n",
       "      <th>9</th>\n",
       "      <td>Canned Soda</td>\n",
       "      <td>1.09</td>\n",
       "      <td>1.09</td>\n",
       "    </tr>\n",
       "    <tr>\n",
       "      <th>46</th>\n",
       "      <td>Veggie Crispy Tacos</td>\n",
       "      <td>8.49</td>\n",
       "      <td>8.49</td>\n",
       "    </tr>\n",
       "    <tr>\n",
       "      <th>47</th>\n",
       "      <td>Veggie Salad</td>\n",
       "      <td>8.49</td>\n",
       "      <td>8.49</td>\n",
       "    </tr>\n",
       "    <tr>\n",
       "      <th>33</th>\n",
       "      <td>Crispy Tacos</td>\n",
       "      <td>7.4</td>\n",
       "      <td>7.4</td>\n",
       "    </tr>\n",
       "    <tr>\n",
       "      <th>8</th>\n",
       "      <td>Burrito</td>\n",
       "      <td>7.4</td>\n",
       "      <td>7.4</td>\n",
       "    </tr>\n",
       "  </tbody>\n",
       "</table>\n",
       "</div>"
      ],
      "text/plain": [
       "              item_name min_one_item_price max_one_item_price\n",
       "9           Canned Soda               1.09               1.09\n",
       "46  Veggie Crispy Tacos               8.49               8.49\n",
       "47         Veggie Salad               8.49               8.49\n",
       "33         Crispy Tacos                7.4                7.4\n",
       "8               Burrito                7.4                7.4"
      ]
     },
     "execution_count": 28,
     "metadata": {},
     "output_type": "execute_result"
    }
   ],
   "source": [
    "dat_gr.head(5)"
   ]
  },
  {
   "cell_type": "code",
   "execution_count": 29,
   "metadata": {},
   "outputs": [],
   "source": [
    "# Отсортируйте item_name по длине названия и выдайте 5 самых длинных названий [1 балл]\n",
    "# здесь ваш код:"
   ]
  },
  {
   "cell_type": "code",
   "execution_count": 30,
   "metadata": {},
   "outputs": [],
   "source": [
    "dat_gr[\"len\"] = dat_gr[\"item_name\"].apply(len)"
   ]
  },
  {
   "cell_type": "code",
   "execution_count": 31,
   "metadata": {},
   "outputs": [
    {
     "data": {
      "text/plain": [
       "31    Chips and Tomatillo-Green Chili Salsa\n",
       "29    Chips and Tomatillo Green Chili Salsa\n",
       "30      Chips and Tomatillo Red Chili Salsa\n",
       "32      Chips and Tomatillo-Red Chili Salsa\n",
       "27       Chips and Roasted Chili Corn Salsa\n",
       "Name: item_name, dtype: object"
      ]
     },
     "execution_count": 31,
     "metadata": {},
     "output_type": "execute_result"
    }
   ],
   "source": [
    "dat_gr.sort_values(by=\"len\", ascending=False)[\"item_name\"].head(5)"
   ]
  },
  {
   "cell_type": "code",
   "execution_count": 32,
   "metadata": {},
   "outputs": [],
   "source": [
    "# Сколько заказов содержит ровно 1 товар? (Подсказка: заказ определяется order_id - все строки, у которых одинковый order_id - это один заказ)\n",
    "# [3 балла]\n",
    "# здесь ваш код:"
   ]
  },
  {
   "cell_type": "code",
   "execution_count": 33,
   "metadata": {},
   "outputs": [],
   "source": [
    "unique_order_id, counts = np.unique(dat.order_id, return_counts=True)"
   ]
  },
  {
   "cell_type": "code",
   "execution_count": 34,
   "metadata": {},
   "outputs": [
    {
     "data": {
      "text/plain": [
       "128"
      ]
     },
     "execution_count": 34,
     "metadata": {},
     "output_type": "execute_result"
    }
   ],
   "source": [
    "sum(counts == 1)"
   ]
  },
  {
   "cell_type": "code",
   "execution_count": 35,
   "metadata": {},
   "outputs": [],
   "source": [
    "# Выведите все виды буррито которые есть с количеством раз, сколько они встречались в датафрейме dat [3 балла]\n",
    "# (Подсказка: во всех видах буррито присутствует слово \"Burrito\")\n",
    "# здесь ваш код:"
   ]
  },
  {
   "cell_type": "code",
   "execution_count": 36,
   "metadata": {},
   "outputs": [
    {
     "data": {
      "text/plain": [
       "array(['Barbacoa Burrito', 'Burrito', 'Carnitas Burrito',\n",
       "       'Chicken Burrito', 'Steak Burrito', 'Veggie Burrito'], dtype=object)"
      ]
     },
     "execution_count": 36,
     "metadata": {},
     "output_type": "execute_result"
    }
   ],
   "source": [
    "def check_burrito(name):\n",
    "    return \"Burrito\" in name\n",
    "burrito_is_here = dat.item_name.apply(check_burrito)\n",
    "np.unique(dat[burrito_is_here][\"item_name\"])"
   ]
  },
  {
   "cell_type": "code",
   "execution_count": 37,
   "metadata": {},
   "outputs": [],
   "source": [
    "# Выведите таблицу с 2 колонками: 1 - уникальные виды буритто, 2 - их стоимости, отсортированную по убыванию стоимостей [1 балл]\n",
    "# здесь ваш код:"
   ]
  },
  {
   "cell_type": "code",
   "execution_count": 38,
   "metadata": {},
   "outputs": [],
   "source": [
    "unique_burritos = np.unique(dat[burrito_is_here][\"item_name\"])\n",
    "min_price_burrito = []\n",
    "for item_name in unique_burritos:\n",
    "    one_price_burrito = dat[dat[\"item_name\"] == item_name][\"item_price\"]\n",
    "    min_price_burrito.append(min(one_price_burrito))"
   ]
  },
  {
   "cell_type": "code",
   "execution_count": 39,
   "metadata": {},
   "outputs": [
    {
     "data": {
      "text/plain": [
       "array(['Barbacoa Burrito', 'Burrito', 'Carnitas Burrito',\n",
       "       'Chicken Burrito', 'Steak Burrito', 'Veggie Burrito'], dtype=object)"
      ]
     },
     "execution_count": 39,
     "metadata": {},
     "output_type": "execute_result"
    }
   ],
   "source": [
    "unique_burritos"
   ]
  },
  {
   "cell_type": "code",
   "execution_count": 40,
   "metadata": {},
   "outputs": [
    {
     "data": {
      "text/plain": [
       "[8.69, 7.4, 8.69, 8.19, 8.69, 8.49]"
      ]
     },
     "execution_count": 40,
     "metadata": {},
     "output_type": "execute_result"
    }
   ],
   "source": [
    "min_price_burrito"
   ]
  },
  {
   "cell_type": "code",
   "execution_count": 41,
   "metadata": {},
   "outputs": [
    {
     "data": {
      "text/html": [
       "<div>\n",
       "<style scoped>\n",
       "    .dataframe tbody tr th:only-of-type {\n",
       "        vertical-align: middle;\n",
       "    }\n",
       "\n",
       "    .dataframe tbody tr th {\n",
       "        vertical-align: top;\n",
       "    }\n",
       "\n",
       "    .dataframe thead th {\n",
       "        text-align: right;\n",
       "    }\n",
       "</style>\n",
       "<table border=\"1\" class=\"dataframe\">\n",
       "  <thead>\n",
       "    <tr style=\"text-align: right;\">\n",
       "      <th></th>\n",
       "      <th>unique_burritos</th>\n",
       "      <th>min_price_burrito</th>\n",
       "    </tr>\n",
       "  </thead>\n",
       "  <tbody>\n",
       "    <tr>\n",
       "      <th>0</th>\n",
       "      <td>Barbacoa Burrito</td>\n",
       "      <td>8.69</td>\n",
       "    </tr>\n",
       "    <tr>\n",
       "      <th>2</th>\n",
       "      <td>Carnitas Burrito</td>\n",
       "      <td>8.69</td>\n",
       "    </tr>\n",
       "    <tr>\n",
       "      <th>4</th>\n",
       "      <td>Steak Burrito</td>\n",
       "      <td>8.69</td>\n",
       "    </tr>\n",
       "    <tr>\n",
       "      <th>5</th>\n",
       "      <td>Veggie Burrito</td>\n",
       "      <td>8.49</td>\n",
       "    </tr>\n",
       "    <tr>\n",
       "      <th>3</th>\n",
       "      <td>Chicken Burrito</td>\n",
       "      <td>8.19</td>\n",
       "    </tr>\n",
       "    <tr>\n",
       "      <th>1</th>\n",
       "      <td>Burrito</td>\n",
       "      <td>7.4</td>\n",
       "    </tr>\n",
       "  </tbody>\n",
       "</table>\n",
       "</div>"
      ],
      "text/plain": [
       "    unique_burritos min_price_burrito\n",
       "0  Barbacoa Burrito              8.69\n",
       "2  Carnitas Burrito              8.69\n",
       "4     Steak Burrito              8.69\n",
       "5    Veggie Burrito              8.49\n",
       "3   Chicken Burrito              8.19\n",
       "1           Burrito               7.4"
      ]
     },
     "execution_count": 41,
     "metadata": {},
     "output_type": "execute_result"
    }
   ],
   "source": [
    "my_data1 = np.array([unique_burritos, min_price_burrito]).T\n",
    "my_columns = [\"unique_burritos\", \"min_price_burrito\"]\n",
    "pd.DataFrame(data=my_data1, columns=my_columns).sort_values(by=\"min_price_burrito\", ascending=False)"
   ]
  },
  {
   "cell_type": "code",
   "execution_count": 42,
   "metadata": {},
   "outputs": [],
   "source": [
    "# В каком количестве заказов есть товар, который составляет более 40% от стоимости всего заказа [4 балла]\n",
    "# здесь ваш код:"
   ]
  },
  {
   "cell_type": "code",
   "execution_count": 43,
   "metadata": {
    "scrolled": true
   },
   "outputs": [
    {
     "data": {
      "text/html": [
       "<div>\n",
       "<style scoped>\n",
       "    .dataframe tbody tr th:only-of-type {\n",
       "        vertical-align: middle;\n",
       "    }\n",
       "\n",
       "    .dataframe tbody tr th {\n",
       "        vertical-align: top;\n",
       "    }\n",
       "\n",
       "    .dataframe thead th {\n",
       "        text-align: right;\n",
       "    }\n",
       "</style>\n",
       "<table border=\"1\" class=\"dataframe\">\n",
       "  <thead>\n",
       "    <tr style=\"text-align: right;\">\n",
       "      <th></th>\n",
       "      <th>order_id</th>\n",
       "      <th>quantity</th>\n",
       "      <th>item_name</th>\n",
       "      <th>choice_description</th>\n",
       "      <th>item_price</th>\n",
       "      <th>one_item_price</th>\n",
       "    </tr>\n",
       "  </thead>\n",
       "  <tbody>\n",
       "    <tr>\n",
       "      <th>0</th>\n",
       "      <td>1</td>\n",
       "      <td>1</td>\n",
       "      <td>Chips and Fresh Tomato Salsa</td>\n",
       "      <td>NaN</td>\n",
       "      <td>2.39</td>\n",
       "      <td>2.39</td>\n",
       "    </tr>\n",
       "    <tr>\n",
       "      <th>1</th>\n",
       "      <td>1</td>\n",
       "      <td>1</td>\n",
       "      <td>Izze</td>\n",
       "      <td>[Clementine]</td>\n",
       "      <td>3.39</td>\n",
       "      <td>3.39</td>\n",
       "    </tr>\n",
       "    <tr>\n",
       "      <th>2</th>\n",
       "      <td>1</td>\n",
       "      <td>1</td>\n",
       "      <td>Nantucket Nectar</td>\n",
       "      <td>[Apple]</td>\n",
       "      <td>3.39</td>\n",
       "      <td>3.39</td>\n",
       "    </tr>\n",
       "    <tr>\n",
       "      <th>3</th>\n",
       "      <td>1</td>\n",
       "      <td>1</td>\n",
       "      <td>Chips and Tomatillo-Green Chili Salsa</td>\n",
       "      <td>NaN</td>\n",
       "      <td>2.39</td>\n",
       "      <td>2.39</td>\n",
       "    </tr>\n",
       "    <tr>\n",
       "      <th>4</th>\n",
       "      <td>2</td>\n",
       "      <td>2</td>\n",
       "      <td>Chicken Bowl</td>\n",
       "      <td>[Tomatillo-Red Chili Salsa (Hot), [Black Beans...</td>\n",
       "      <td>16.98</td>\n",
       "      <td>8.49</td>\n",
       "    </tr>\n",
       "  </tbody>\n",
       "</table>\n",
       "</div>"
      ],
      "text/plain": [
       "   order_id  quantity                              item_name  \\\n",
       "0         1         1           Chips and Fresh Tomato Salsa   \n",
       "1         1         1                                   Izze   \n",
       "2         1         1                       Nantucket Nectar   \n",
       "3         1         1  Chips and Tomatillo-Green Chili Salsa   \n",
       "4         2         2                           Chicken Bowl   \n",
       "\n",
       "                                  choice_description  item_price  \\\n",
       "0                                                NaN        2.39   \n",
       "1                                       [Clementine]        3.39   \n",
       "2                                            [Apple]        3.39   \n",
       "3                                                NaN        2.39   \n",
       "4  [Tomatillo-Red Chili Salsa (Hot), [Black Beans...       16.98   \n",
       "\n",
       "   one_item_price  \n",
       "0            2.39  \n",
       "1            3.39  \n",
       "2            3.39  \n",
       "3            2.39  \n",
       "4            8.49  "
      ]
     },
     "execution_count": 43,
     "metadata": {},
     "output_type": "execute_result"
    }
   ],
   "source": [
    "dat.head()"
   ]
  },
  {
   "cell_type": "code",
   "execution_count": 44,
   "metadata": {},
   "outputs": [],
   "source": [
    "#для понимания задания делала отдельно для одного order_id\n",
    "dat_one_order = dat[dat[\"order_id\"] == 1]"
   ]
  },
  {
   "cell_type": "code",
   "execution_count": 45,
   "metadata": {},
   "outputs": [
    {
     "data": {
      "text/html": [
       "<div>\n",
       "<style scoped>\n",
       "    .dataframe tbody tr th:only-of-type {\n",
       "        vertical-align: middle;\n",
       "    }\n",
       "\n",
       "    .dataframe tbody tr th {\n",
       "        vertical-align: top;\n",
       "    }\n",
       "\n",
       "    .dataframe thead th {\n",
       "        text-align: right;\n",
       "    }\n",
       "</style>\n",
       "<table border=\"1\" class=\"dataframe\">\n",
       "  <thead>\n",
       "    <tr style=\"text-align: right;\">\n",
       "      <th></th>\n",
       "      <th>order_id</th>\n",
       "      <th>quantity</th>\n",
       "      <th>item_name</th>\n",
       "      <th>choice_description</th>\n",
       "      <th>item_price</th>\n",
       "      <th>one_item_price</th>\n",
       "    </tr>\n",
       "  </thead>\n",
       "  <tbody>\n",
       "    <tr>\n",
       "      <th>0</th>\n",
       "      <td>1</td>\n",
       "      <td>1</td>\n",
       "      <td>Chips and Fresh Tomato Salsa</td>\n",
       "      <td>NaN</td>\n",
       "      <td>2.39</td>\n",
       "      <td>2.39</td>\n",
       "    </tr>\n",
       "    <tr>\n",
       "      <th>1</th>\n",
       "      <td>1</td>\n",
       "      <td>1</td>\n",
       "      <td>Izze</td>\n",
       "      <td>[Clementine]</td>\n",
       "      <td>3.39</td>\n",
       "      <td>3.39</td>\n",
       "    </tr>\n",
       "    <tr>\n",
       "      <th>2</th>\n",
       "      <td>1</td>\n",
       "      <td>1</td>\n",
       "      <td>Nantucket Nectar</td>\n",
       "      <td>[Apple]</td>\n",
       "      <td>3.39</td>\n",
       "      <td>3.39</td>\n",
       "    </tr>\n",
       "    <tr>\n",
       "      <th>3</th>\n",
       "      <td>1</td>\n",
       "      <td>1</td>\n",
       "      <td>Chips and Tomatillo-Green Chili Salsa</td>\n",
       "      <td>NaN</td>\n",
       "      <td>2.39</td>\n",
       "      <td>2.39</td>\n",
       "    </tr>\n",
       "  </tbody>\n",
       "</table>\n",
       "</div>"
      ],
      "text/plain": [
       "   order_id  quantity                              item_name  \\\n",
       "0         1         1           Chips and Fresh Tomato Salsa   \n",
       "1         1         1                                   Izze   \n",
       "2         1         1                       Nantucket Nectar   \n",
       "3         1         1  Chips and Tomatillo-Green Chili Salsa   \n",
       "\n",
       "  choice_description  item_price  one_item_price  \n",
       "0                NaN        2.39            2.39  \n",
       "1       [Clementine]        3.39            3.39  \n",
       "2            [Apple]        3.39            3.39  \n",
       "3                NaN        2.39            2.39  "
      ]
     },
     "execution_count": 45,
     "metadata": {},
     "output_type": "execute_result"
    }
   ],
   "source": [
    "#для понимания задания делала отдельно для одного order_id\n",
    "dat_one_order"
   ]
  },
  {
   "cell_type": "code",
   "execution_count": 46,
   "metadata": {},
   "outputs": [],
   "source": [
    "#для понимания задания делала отдельно для одного order_id\n",
    "max_one_item_price = max(dat_one_order[\"one_item_price\"]) "
   ]
  },
  {
   "cell_type": "code",
   "execution_count": 47,
   "metadata": {},
   "outputs": [],
   "source": [
    "#для понимания задания делала отдельно для одного order_id\n",
    "sum_item_price = sum(dat_one_order[\"item_price\"])"
   ]
  },
  {
   "cell_type": "code",
   "execution_count": 48,
   "metadata": {},
   "outputs": [
    {
     "name": "stdout",
     "output_type": "stream",
     "text": [
      "False\n"
     ]
    }
   ],
   "source": [
    "#для понимания задания делала отдельно для одного order_id\n",
    "if max_one_item_price > sum_item_price*0.4:\n",
    "    print(True)\n",
    "else:\n",
    "    print(False)"
   ]
  },
  {
   "cell_type": "code",
   "execution_count": 49,
   "metadata": {},
   "outputs": [],
   "source": [
    "unique_order_id = np.unique(dat.order_id)"
   ]
  },
  {
   "cell_type": "code",
   "execution_count": 50,
   "metadata": {},
   "outputs": [
    {
     "data": {
      "text/plain": [
       "1834"
      ]
     },
     "execution_count": 50,
     "metadata": {},
     "output_type": "execute_result"
    }
   ],
   "source": [
    "len(unique_order_id)"
   ]
  },
  {
   "cell_type": "code",
   "execution_count": 51,
   "metadata": {},
   "outputs": [
    {
     "name": "stdout",
     "output_type": "stream",
     "text": [
      "1589\n"
     ]
    }
   ],
   "source": [
    "k = 0\n",
    "for i in unique_order_id:\n",
    "    data_of_one_order = dat[dat[\"order_id\"] == i]\n",
    "    max_one_item_price = max(data_of_one_order[\"one_item_price\"]) \n",
    "    sum_item_price = sum(data_of_one_order[\"item_price\"])\n",
    "    if max_one_item_price > sum_item_price*0.4:\n",
    "        k += 1\n",
    "print(k)   "
   ]
  },
  {
   "cell_type": "code",
   "execution_count": 52,
   "metadata": {},
   "outputs": [],
   "source": [
    "# Представим, что товар [Diet Coke] (choice_description) на самом деле стоил на 15% дороже, чем написано в таблице \n",
    "# (то есть вместо 1.09 -> 1.09*1.15, 1.25 -> 1.25*1.15, 6.49 -> 6.49*1.15).\n",
    "# Сколько денег прошло мимо кассы, если учесть, что продавался этот товар по новой стоимости, а чек печатался по старой [2 балла]\n",
    "# здесь ваш код:"
   ]
  },
  {
   "cell_type": "code",
   "execution_count": 53,
   "metadata": {},
   "outputs": [
    {
     "data": {
      "text/html": [
       "<div>\n",
       "<style scoped>\n",
       "    .dataframe tbody tr th:only-of-type {\n",
       "        vertical-align: middle;\n",
       "    }\n",
       "\n",
       "    .dataframe tbody tr th {\n",
       "        vertical-align: top;\n",
       "    }\n",
       "\n",
       "    .dataframe thead th {\n",
       "        text-align: right;\n",
       "    }\n",
       "</style>\n",
       "<table border=\"1\" class=\"dataframe\">\n",
       "  <thead>\n",
       "    <tr style=\"text-align: right;\">\n",
       "      <th></th>\n",
       "      <th>order_id</th>\n",
       "      <th>quantity</th>\n",
       "      <th>item_name</th>\n",
       "      <th>choice_description</th>\n",
       "      <th>item_price</th>\n",
       "      <th>one_item_price</th>\n",
       "    </tr>\n",
       "  </thead>\n",
       "  <tbody>\n",
       "    <tr>\n",
       "      <th>0</th>\n",
       "      <td>1</td>\n",
       "      <td>1</td>\n",
       "      <td>Chips and Fresh Tomato Salsa</td>\n",
       "      <td>NaN</td>\n",
       "      <td>2.39</td>\n",
       "      <td>2.39</td>\n",
       "    </tr>\n",
       "    <tr>\n",
       "      <th>1</th>\n",
       "      <td>1</td>\n",
       "      <td>1</td>\n",
       "      <td>Izze</td>\n",
       "      <td>[Clementine]</td>\n",
       "      <td>3.39</td>\n",
       "      <td>3.39</td>\n",
       "    </tr>\n",
       "    <tr>\n",
       "      <th>2</th>\n",
       "      <td>1</td>\n",
       "      <td>1</td>\n",
       "      <td>Nantucket Nectar</td>\n",
       "      <td>[Apple]</td>\n",
       "      <td>3.39</td>\n",
       "      <td>3.39</td>\n",
       "    </tr>\n",
       "    <tr>\n",
       "      <th>3</th>\n",
       "      <td>1</td>\n",
       "      <td>1</td>\n",
       "      <td>Chips and Tomatillo-Green Chili Salsa</td>\n",
       "      <td>NaN</td>\n",
       "      <td>2.39</td>\n",
       "      <td>2.39</td>\n",
       "    </tr>\n",
       "    <tr>\n",
       "      <th>4</th>\n",
       "      <td>2</td>\n",
       "      <td>2</td>\n",
       "      <td>Chicken Bowl</td>\n",
       "      <td>[Tomatillo-Red Chili Salsa (Hot), [Black Beans...</td>\n",
       "      <td>16.98</td>\n",
       "      <td>8.49</td>\n",
       "    </tr>\n",
       "  </tbody>\n",
       "</table>\n",
       "</div>"
      ],
      "text/plain": [
       "   order_id  quantity                              item_name  \\\n",
       "0         1         1           Chips and Fresh Tomato Salsa   \n",
       "1         1         1                                   Izze   \n",
       "2         1         1                       Nantucket Nectar   \n",
       "3         1         1  Chips and Tomatillo-Green Chili Salsa   \n",
       "4         2         2                           Chicken Bowl   \n",
       "\n",
       "                                  choice_description  item_price  \\\n",
       "0                                                NaN        2.39   \n",
       "1                                       [Clementine]        3.39   \n",
       "2                                            [Apple]        3.39   \n",
       "3                                                NaN        2.39   \n",
       "4  [Tomatillo-Red Chili Salsa (Hot), [Black Beans...       16.98   \n",
       "\n",
       "   one_item_price  \n",
       "0            2.39  \n",
       "1            3.39  \n",
       "2            3.39  \n",
       "3            2.39  \n",
       "4            8.49  "
      ]
     },
     "execution_count": 53,
     "metadata": {},
     "output_type": "execute_result"
    }
   ],
   "source": [
    "dat.head()"
   ]
  },
  {
   "cell_type": "code",
   "execution_count": 54,
   "metadata": {},
   "outputs": [],
   "source": [
    "diet_coke = dat[dat[\"choice_description\"] == \"[Diet Coke]\"][\"item_price\"]"
   ]
  },
  {
   "cell_type": "code",
   "execution_count": 55,
   "metadata": {},
   "outputs": [
    {
     "data": {
      "text/plain": [
       "162     2.18\n",
       "200     1.09\n",
       "317     1.09\n",
       "341     6.49\n",
       "350     2.18\n",
       "368     1.25\n",
       "370     1.09\n",
       "388     6.49\n",
       "417     6.49\n",
       "492     2.50\n",
       "513     1.25\n",
       "541     1.25\n",
       "553     6.49\n",
       "566     1.25\n",
       "567     1.25\n",
       "618     1.25\n",
       "639     6.49\n",
       "689     3.75\n",
       "695     1.25\n",
       "716     1.25\n",
       "779     1.09\n",
       "788     1.25\n",
       "870     1.25\n",
       "884     1.25\n",
       "963     1.25\n",
       "987     1.25\n",
       "989     1.25\n",
       "998     1.25\n",
       "1045    1.25\n",
       "1062    1.25\n",
       "        ... \n",
       "3592    2.18\n",
       "3609    2.50\n",
       "3693    6.49\n",
       "3699    2.50\n",
       "3727    1.25\n",
       "3784    1.25\n",
       "3789    6.49\n",
       "3793    1.09\n",
       "3875    6.49\n",
       "3886    6.49\n",
       "4008    1.09\n",
       "4016    2.50\n",
       "4043    1.25\n",
       "4098    3.75\n",
       "4169    6.49\n",
       "4170    1.25\n",
       "4240    1.25\n",
       "4276    1.25\n",
       "4284    1.25\n",
       "4363    6.49\n",
       "4410    1.25\n",
       "4464    1.25\n",
       "4480    1.25\n",
       "4513    1.25\n",
       "4522    6.49\n",
       "4527    6.49\n",
       "4545    1.25\n",
       "4571    1.25\n",
       "4585    1.25\n",
       "4601    1.25\n",
       "Name: item_price, Length: 134, dtype: float64"
      ]
     },
     "execution_count": 55,
     "metadata": {},
     "output_type": "execute_result"
    }
   ],
   "source": [
    "diet_coke"
   ]
  },
  {
   "cell_type": "code",
   "execution_count": 58,
   "metadata": {},
   "outputs": [],
   "source": [
    "sum_diet_cokes = sum(1.15*diet_coke-diet_coke)"
   ]
  },
  {
   "cell_type": "code",
   "execution_count": 59,
   "metadata": {},
   "outputs": [
    {
     "data": {
      "text/plain": [
       "49.0065"
      ]
     },
     "execution_count": 59,
     "metadata": {},
     "output_type": "execute_result"
    }
   ],
   "source": [
    "sum_diet_cokes"
   ]
  },
  {
   "cell_type": "code",
   "execution_count": 60,
   "metadata": {},
   "outputs": [],
   "source": [
    "# Создайте датафрейм из random_matrix, удовлетворяющий следующим условиям: \n",
    "# 1) колонки датафрейма должны называться ['A', 'B', 'C', 'D', 'E']\n",
    "# 2) Колонка \"B\" должна быть индексом\n",
    "# random_matrix = np.random.randint(-5, 5, size=(15, 5))\n",
    "# Сохраните полученный датафрейм на диск [1 балл]\n",
    "# здесь ваш код:"
   ]
  },
  {
   "cell_type": "code",
   "execution_count": 62,
   "metadata": {
    "scrolled": false
   },
   "outputs": [],
   "source": [
    "random_matrix = np.random.randint( -5, 5, size=(15, 5))\n",
    "my_data_again = np.array(random_matrix)\n",
    "my_columns_again = ['A', 'B' , 'C', 'D', 'E']\n",
    "h = pd.DataFrame(data=my_data_again, columns=my_columns_again)\n",
    "h = h.set_index('B')"
   ]
  },
  {
   "cell_type": "code",
   "execution_count": 63,
   "metadata": {},
   "outputs": [
    {
     "data": {
      "text/html": [
       "<div>\n",
       "<style scoped>\n",
       "    .dataframe tbody tr th:only-of-type {\n",
       "        vertical-align: middle;\n",
       "    }\n",
       "\n",
       "    .dataframe tbody tr th {\n",
       "        vertical-align: top;\n",
       "    }\n",
       "\n",
       "    .dataframe thead th {\n",
       "        text-align: right;\n",
       "    }\n",
       "</style>\n",
       "<table border=\"1\" class=\"dataframe\">\n",
       "  <thead>\n",
       "    <tr style=\"text-align: right;\">\n",
       "      <th></th>\n",
       "      <th>A</th>\n",
       "      <th>C</th>\n",
       "      <th>D</th>\n",
       "      <th>E</th>\n",
       "    </tr>\n",
       "    <tr>\n",
       "      <th>B</th>\n",
       "      <th></th>\n",
       "      <th></th>\n",
       "      <th></th>\n",
       "      <th></th>\n",
       "    </tr>\n",
       "  </thead>\n",
       "  <tbody>\n",
       "    <tr>\n",
       "      <th>-2</th>\n",
       "      <td>-5</td>\n",
       "      <td>0</td>\n",
       "      <td>-5</td>\n",
       "      <td>3</td>\n",
       "    </tr>\n",
       "    <tr>\n",
       "      <th>4</th>\n",
       "      <td>4</td>\n",
       "      <td>-3</td>\n",
       "      <td>-5</td>\n",
       "      <td>-3</td>\n",
       "    </tr>\n",
       "    <tr>\n",
       "      <th>4</th>\n",
       "      <td>2</td>\n",
       "      <td>3</td>\n",
       "      <td>4</td>\n",
       "      <td>2</td>\n",
       "    </tr>\n",
       "    <tr>\n",
       "      <th>1</th>\n",
       "      <td>-3</td>\n",
       "      <td>-5</td>\n",
       "      <td>1</td>\n",
       "      <td>2</td>\n",
       "    </tr>\n",
       "    <tr>\n",
       "      <th>-1</th>\n",
       "      <td>3</td>\n",
       "      <td>4</td>\n",
       "      <td>-1</td>\n",
       "      <td>0</td>\n",
       "    </tr>\n",
       "    <tr>\n",
       "      <th>2</th>\n",
       "      <td>1</td>\n",
       "      <td>-1</td>\n",
       "      <td>4</td>\n",
       "      <td>-3</td>\n",
       "    </tr>\n",
       "    <tr>\n",
       "      <th>-1</th>\n",
       "      <td>-5</td>\n",
       "      <td>-5</td>\n",
       "      <td>-1</td>\n",
       "      <td>-3</td>\n",
       "    </tr>\n",
       "    <tr>\n",
       "      <th>-1</th>\n",
       "      <td>-2</td>\n",
       "      <td>1</td>\n",
       "      <td>-3</td>\n",
       "      <td>0</td>\n",
       "    </tr>\n",
       "    <tr>\n",
       "      <th>-5</th>\n",
       "      <td>0</td>\n",
       "      <td>4</td>\n",
       "      <td>-2</td>\n",
       "      <td>2</td>\n",
       "    </tr>\n",
       "    <tr>\n",
       "      <th>1</th>\n",
       "      <td>2</td>\n",
       "      <td>3</td>\n",
       "      <td>-4</td>\n",
       "      <td>-4</td>\n",
       "    </tr>\n",
       "    <tr>\n",
       "      <th>0</th>\n",
       "      <td>-1</td>\n",
       "      <td>-5</td>\n",
       "      <td>1</td>\n",
       "      <td>-1</td>\n",
       "    </tr>\n",
       "    <tr>\n",
       "      <th>2</th>\n",
       "      <td>2</td>\n",
       "      <td>0</td>\n",
       "      <td>-5</td>\n",
       "      <td>-3</td>\n",
       "    </tr>\n",
       "    <tr>\n",
       "      <th>3</th>\n",
       "      <td>-4</td>\n",
       "      <td>1</td>\n",
       "      <td>-2</td>\n",
       "      <td>-3</td>\n",
       "    </tr>\n",
       "    <tr>\n",
       "      <th>-5</th>\n",
       "      <td>-3</td>\n",
       "      <td>1</td>\n",
       "      <td>2</td>\n",
       "      <td>0</td>\n",
       "    </tr>\n",
       "    <tr>\n",
       "      <th>-3</th>\n",
       "      <td>2</td>\n",
       "      <td>-3</td>\n",
       "      <td>1</td>\n",
       "      <td>0</td>\n",
       "    </tr>\n",
       "  </tbody>\n",
       "</table>\n",
       "</div>"
      ],
      "text/plain": [
       "    A  C  D  E\n",
       "B             \n",
       "-2 -5  0 -5  3\n",
       " 4  4 -3 -5 -3\n",
       " 4  2  3  4  2\n",
       " 1 -3 -5  1  2\n",
       "-1  3  4 -1  0\n",
       " 2  1 -1  4 -3\n",
       "-1 -5 -5 -1 -3\n",
       "-1 -2  1 -3  0\n",
       "-5  0  4 -2  2\n",
       " 1  2  3 -4 -4\n",
       " 0 -1 -5  1 -1\n",
       " 2  2  0 -5 -3\n",
       " 3 -4  1 -2 -3\n",
       "-5 -3  1  2  0\n",
       "-3  2 -3  1  0"
      ]
     },
     "execution_count": 63,
     "metadata": {},
     "output_type": "execute_result"
    }
   ],
   "source": [
    "h"
   ]
  },
  {
   "cell_type": "markdown",
   "metadata": {},
   "source": [
    "### Plain python and Numpy"
   ]
  },
  {
   "cell_type": "code",
   "execution_count": 78,
   "metadata": {},
   "outputs": [],
   "source": [
    "# Написать функцию, которая принимает на вход словарь: ключ - число от -3 до 5, значение - список из 4 случайных целых чисел от -5 до 5.\n",
    "# На выходе функция должна должна выдать словарь, ключами которого являются уникальные значения из списков входного словаря, а значениями -\n",
    "# список ключей, которые содержат данное значение. [2 балла]\n",
    "# Например для словаря:\n",
    "# {-3: [2, -5, -1],\n",
    "#  -2: [0, 1, -1, -2],\n",
    "#  -1: [3, -4, -3, -2],\n",
    "#  0: [0, 3, -4],\n",
    "#  1: [0, 3, -5],\n",
    "#  2: [0, 4, -3],\n",
    "#  3: [2, -4, -1],\n",
    "#  4: [3, -4, -3, -2],\n",
    "#  5: [-4, -3, -1]}\n",
    "# функция должна вернуть:\n",
    "# {-5: [-3, 1],\n",
    "#  -4: [-1, 0, 3, 4, 5],\n",
    "#  -3: [-1, 2, 4, 5],\n",
    "#  -2: [-2, -1, 4],\n",
    "#  -1: [-3, -2, 3, 5],\n",
    "#  0: [-2, 0, 1, 2],\n",
    "#  1: [-2],\n",
    "#  2: [-3, 3],\n",
    "#  3: [-1, 0, 1, 4],\n",
    "#  4: [2]}\n",
    "# сгенерировать такой словарь можно функцией: generated_dict = {i: list(set(np.random.randint(-5, 5, size=4).tolist())) for i in range(-3, 5+1)}\n",
    "def inverting_func(some_dict):\n",
    "    # здесь ваш код:\n",
    "    resulting_dict = dict()\n",
    "    values_in_input_dict = []\n",
    "    for val in some_dict.values():\n",
    "        values_in_input_dict.extend(val)\n",
    "    unique_values_in_input_dict = np.unique(values_in_input_dict)\n",
    "    for un in unique_values_in_input_dict:\n",
    "        values_in_resulting_dict = []\n",
    "        for key in some_dict.keys():\n",
    "            if un in some_dict[key]:\n",
    "                values_in_resulting_dict.append(key)\n",
    "        resulting_dict[un] = values_in_resulting_dict\n",
    "    return resulting_dict"
   ]
  },
  {
   "cell_type": "code",
   "execution_count": 79,
   "metadata": {},
   "outputs": [
    {
     "data": {
      "text/plain": [
       "{-5: [-3, 1],\n",
       " -4: [-1, 0, 3, 4, 5],\n",
       " -3: [-1, 2, 4, 5],\n",
       " -2: [-2, -1, 4],\n",
       " -1: [-3, -2, 3, 5],\n",
       " 0: [-2, 0, 1, 2],\n",
       " 1: [-2],\n",
       " 2: [-3, 3],\n",
       " 3: [-1, 0, 1, 4],\n",
       " 4: [2]}"
      ]
     },
     "execution_count": 79,
     "metadata": {},
     "output_type": "execute_result"
    }
   ],
   "source": [
    "generated_dict = {i: list(set(np.random.randint(-5, 5, size=4).tolist())) for i in range(-3, 5+1)}\n",
    "test_dict = {-3: [2, -5, -1],\n",
    "             -2: [0, 1, -1, -2],\n",
    "             -1: [3, -4, -3, -2],\n",
    "             0: [0, 3, -4],\n",
    "             1: [0, 3, -5],\n",
    "             2: [0, 4, -3],\n",
    "             3: [2, -4, -1],\n",
    "             4: [3, -4, -3, -2],\n",
    "             5: [-4, -3, -1]\n",
    "}\n",
    "inverting_func(test_dict)"
   ]
  },
  {
   "cell_type": "raw",
   "metadata": {},
   "source": [
    "Полезные функции NumPy: np.zeros, np.ones, np.diag, np.eye, np.arange, np.linspace, np.meshgrid,\n",
    "np.random.random, np.random.randint, np.shape, np.reshape, np.transpose, np.any, np.all, np.nonzero, np.where,\n",
    "np.sum, np.cumsum, np.prod, np.diff, np.min, np.max, np.minimum, np.maximum, np.argmin, np.argmax, np.unique,\n",
    "np.sort, np.argsort, np.bincount, np.ravel, np.newaxis, np.dot, np.linalg.inv, np.linalg.solve"
   ]
  },
  {
   "cell_type": "code",
   "execution_count": 66,
   "metadata": {},
   "outputs": [
    {
     "data": {
      "text/plain": [
       "2"
      ]
     },
     "execution_count": 66,
     "metadata": {},
     "output_type": "execute_result"
    }
   ],
   "source": [
    "# Написать функцию, которая подсчитывает количество ненулевый элементов на главное диагонали прямоугольной матрицы. \n",
    "## Пример:\n",
    "# Для X = np.array([[1, 0, 1], [2, 0, 2], [3, 0, 3], [4, 4, 4]]) ответ 3.\n",
    "def my_diag_product_func(x):\n",
    "    # здесь ваш код:\n",
    "    diag = x.diagonal()\n",
    "    diag_no_0 = diag[diag != 0]\n",
    "    result = len(diag_no_0)\n",
    "    return result\n",
    "X = np.array([[1, 0, 1], [2, 0, 2], [3, 0, 3], [4, 4, 4]])\n",
    "my_diag_product_func(X)"
   ]
  },
  {
   "cell_type": "code",
   "execution_count": 80,
   "metadata": {},
   "outputs": [],
   "source": [
    "# Написать функцию, выдает максимальный элемент из тех, перед которым идёт ноль. Если в массиве нет нулей - выдает \"В массиве нет нулей\" [1 балл]\n",
    "## Пример:\n",
    "# Для x = np.array([6, 2, 0, 3, 0, 0, 5, 7, 0]) ответ 5.\n",
    "x = np.array([1, 2, 0])\n",
    "def max_element(x):\n",
    "    # здесь ваш код\n",
    "    indexes_where_are_max = []\n",
    "    for i, value in enumerate(x):\n",
    "        if value == 0 and i != len(x) - 1:\n",
    "            indexes_where_are_max.append(i + 1)\n",
    "    if len( indexes_where_are_max) == 0:\n",
    "        print(\"В массиве нет нулей\")\n",
    "    max_element = max(x[indexes_where_are_max])\n",
    "    return max_element"
   ]
  },
  {
   "cell_type": "code",
   "execution_count": 81,
   "metadata": {},
   "outputs": [
    {
     "data": {
      "text/plain": [
       "5"
      ]
     },
     "execution_count": 81,
     "metadata": {},
     "output_type": "execute_result"
    }
   ],
   "source": [
    "x = np.array([6, 2, 0, 3, 0, 0, 5, 7, 0])\n",
    "max_element(x)"
   ]
  },
  {
   "cell_type": "code",
   "execution_count": 69,
   "metadata": {},
   "outputs": [],
   "source": [
    "# Написать функцию, которая подсчитывает матрицу евклидовых расстояний между объектами, содержащимися в матрицах X и Y. [2 балла]\n",
    "# (без использования scipy.spatial.disctance.cdist)\n",
    "# Матрицы X и Y размерностей число объектов x размерность пространства (число объектов в X и в Y может быть различным)\n",
    "## Пример:\n",
    "# Для матриц: X = np.array([[6, 6, 5],   Y = np.array([[1, 1, 0],\n",
    "#                           [5, 6, 5]                  [0, 0, 1]])\n",
    "#                           [5, 5, 5],\n",
    "#                           [6, 6, 5],\n",
    "#                           [5, 6, 5]])\n",
    "# Ответ должен быть: np.array([[8.66025404, 9.38083152],\n",
    "#                              [8.1240384 , 8.77496439],\n",
    "#                              [7.54983444, 8.1240384 ],\n",
    "#                              [8.66025404, 9.38083152],\n",
    "#                              [8.1240384 , 8.77496439]])\n",
    "def euc_dist_matrix(X, Y):\n",
    "    # здесь ваш код:\n",
    "    return result\n"
   ]
  },
  {
   "cell_type": "markdown",
   "metadata": {},
   "source": [
    "### Визуализация"
   ]
  },
  {
   "cell_type": "code",
   "execution_count": 70,
   "metadata": {},
   "outputs": [],
   "source": [
    "# Постройте гистограмму распределения сумм покупок и гистограмму средних цен отдельных видов продуктов item_name.\n",
    "# Изображайте на двух соседних графиках. Для этого может быть полезен subplot. [3 балла]"
   ]
  },
  {
   "cell_type": "code",
   "execution_count": 71,
   "metadata": {},
   "outputs": [
    {
     "data": {
      "text/html": [
       "<div>\n",
       "<style scoped>\n",
       "    .dataframe tbody tr th:only-of-type {\n",
       "        vertical-align: middle;\n",
       "    }\n",
       "\n",
       "    .dataframe tbody tr th {\n",
       "        vertical-align: top;\n",
       "    }\n",
       "\n",
       "    .dataframe thead th {\n",
       "        text-align: right;\n",
       "    }\n",
       "</style>\n",
       "<table border=\"1\" class=\"dataframe\">\n",
       "  <thead>\n",
       "    <tr style=\"text-align: right;\">\n",
       "      <th></th>\n",
       "      <th>order_id</th>\n",
       "      <th>quantity</th>\n",
       "      <th>item_name</th>\n",
       "      <th>choice_description</th>\n",
       "      <th>item_price</th>\n",
       "      <th>one_item_price</th>\n",
       "    </tr>\n",
       "  </thead>\n",
       "  <tbody>\n",
       "    <tr>\n",
       "      <th>0</th>\n",
       "      <td>1</td>\n",
       "      <td>1</td>\n",
       "      <td>Chips and Fresh Tomato Salsa</td>\n",
       "      <td>NaN</td>\n",
       "      <td>2.39</td>\n",
       "      <td>2.39</td>\n",
       "    </tr>\n",
       "    <tr>\n",
       "      <th>1</th>\n",
       "      <td>1</td>\n",
       "      <td>1</td>\n",
       "      <td>Izze</td>\n",
       "      <td>[Clementine]</td>\n",
       "      <td>3.39</td>\n",
       "      <td>3.39</td>\n",
       "    </tr>\n",
       "    <tr>\n",
       "      <th>2</th>\n",
       "      <td>1</td>\n",
       "      <td>1</td>\n",
       "      <td>Nantucket Nectar</td>\n",
       "      <td>[Apple]</td>\n",
       "      <td>3.39</td>\n",
       "      <td>3.39</td>\n",
       "    </tr>\n",
       "    <tr>\n",
       "      <th>3</th>\n",
       "      <td>1</td>\n",
       "      <td>1</td>\n",
       "      <td>Chips and Tomatillo-Green Chili Salsa</td>\n",
       "      <td>NaN</td>\n",
       "      <td>2.39</td>\n",
       "      <td>2.39</td>\n",
       "    </tr>\n",
       "  </tbody>\n",
       "</table>\n",
       "</div>"
      ],
      "text/plain": [
       "   order_id  quantity                              item_name  \\\n",
       "0         1         1           Chips and Fresh Tomato Salsa   \n",
       "1         1         1                                   Izze   \n",
       "2         1         1                       Nantucket Nectar   \n",
       "3         1         1  Chips and Tomatillo-Green Chili Salsa   \n",
       "\n",
       "  choice_description  item_price  one_item_price  \n",
       "0                NaN        2.39            2.39  \n",
       "1       [Clementine]        3.39            3.39  \n",
       "2            [Apple]        3.39            3.39  \n",
       "3                NaN        2.39            2.39  "
      ]
     },
     "execution_count": 71,
     "metadata": {},
     "output_type": "execute_result"
    }
   ],
   "source": [
    "dat[:4]"
   ]
  },
  {
   "cell_type": "code",
   "execution_count": 72,
   "metadata": {},
   "outputs": [
    {
     "data": {
      "image/png": "[encoded data removed]",
      "text/plain": [
       "<Figure size 1152x432 with 2 Axes>"
      ]
     },
     "metadata": {},
     "output_type": "display_data"
    }
   ],
   "source": [
    "# данные для 1-го графика (распр сумм покупок)\n",
    "data_for_hist_1 = dat[\"item_price\"].values\n",
    "# данные для 2-го графика (средн цены отд видов продуктов)\n",
    "mean_price = []\n",
    "for i in np.unique(dat[\"item_name\"]):\n",
    "    item_price_for_one = dat[dat[\"item_name\"] == i][\"item_price\"]\n",
    "    mean_price.append(np.mean(item_price_for_one))\n",
    "plt.figure(figsize=(16, 6))\n",
    "plt.subplot(1, 2, 1)\n",
    "plt.hist(data_for_hist_1)\n",
    "plt.title(\"Гистограмма распределения сумм покупок\")\n",
    "plt.xlabel(\"Сумма покупки\")\n",
    "plt.subplot(1, 2, 2)\n",
    "plt.hist(mean_price)\n",
    "plt.title(\"Гистограмма средних цен отдельных видов продуктов\")\n",
    "plt.xlabel(\"Средняя цена продукта\")\n",
    "plt.show()"
   ]
  },
  {
   "cell_type": "code",
   "execution_count": 73,
   "metadata": {},
   "outputs": [
    {
     "data": {
      "image/png": "[encoded data removed]",
      "text/plain": [
       "<Figure size 1152x648 with 1 Axes>"
      ]
     },
     "metadata": {},
     "output_type": "display_data"
    }
   ],
   "source": [
    "# Постройте график зависимости (scatterplot) item_price от quantity [0.5 балла]\n",
    "# здесь ваш код:\n",
    "plt.figure(figsize=(16, 9))\n",
    "plt.scatter(dat[\"item_price\"], dat[\"quantity\"])\n",
    "plt.title(\"График зависимости (scatterplot) item_price от quantity\")\n",
    "plt.xlabel(\"item_price\")\n",
    "plt.ylabel(\"quantity\")\n",
    "plt.show()"
   ]
  },
  {
   "cell_type": "code",
   "execution_count": 74,
   "metadata": {},
   "outputs": [],
   "source": [
    "#Добавьте в датафрейм dat новую колонку day_of_week - слуйчайную величину от 1 до 7. [0 баллов]\n",
    "#здесь ваш код:\n",
    "dat['day_of_week'] = np.random.randint(1, 7, size = len(dat[\"item_price\"]))"
   ]
  },
  {
   "cell_type": "code",
   "execution_count": 75,
   "metadata": {},
   "outputs": [
    {
     "data": {
      "text/plain": [
       "0    6\n",
       "1    1\n",
       "2    4\n",
       "3    1\n",
       "4    6\n",
       "Name: day_of_week, dtype: int64"
      ]
     },
     "execution_count": 75,
     "metadata": {},
     "output_type": "execute_result"
    }
   ],
   "source": [
    "dat['day_of_week'].head(5)"
   ]
  },
  {
   "cell_type": "code",
   "execution_count": 76,
   "metadata": {},
   "outputs": [
    {
     "data": {
      "image/png": "[encoded data removed]",
      "text/plain": [
       "<Figure size 1152x432 with 1 Axes>"
      ]
     },
     "metadata": {},
     "output_type": "display_data"
    }
   ],
   "source": [
    "# Нарисуйте барплот. По оси икс - день недели, по оси игрек - средний чек за покупку в этот день недели. [1 балл]\n",
    "# здесь ваш гарфик:\n",
    "mean_check = []\n",
    "unique_days_of_week = np.unique(dat[\"day_of_week\"])\n",
    "for one_day_of_week in unique_days_of_week:\n",
    "    item_price_in_one_day_of_week = dat[dat[\"day_of_week\"] == one_day_of_week][\"item_price\"]\n",
    "    mean_check.append(np.mean(item_price_in_one_day_of_week))\n",
    "plt.figure(figsize=(16, 6))\n",
    "plt.bar(unique_days_of_week, mean_check)\n",
    "plt.ylabel(\"Средний чек\")\n",
    "plt.xlabel(\"День недели\")\n",
    "plt.show()"
   ]
  },
  {
   "cell_type": "code",
   "execution_count": 77,
   "metadata": {},
   "outputs": [
    {
     "data": {
      "image/png": "[encoded data removed]",
      "text/plain": [
       "<Figure size 1152x576 with 1 Axes>"
      ]
     },
     "metadata": {},
     "output_type": "display_data"
    }
   ],
   "source": [
    "# Нарисуйте линейный график (plt.plot) изменения средней стоимости заказа в зависимости от order_id [1 балл]\n",
    "# здесь ваш код:\n",
    "mean_item_price_by_order_id = []\n",
    "unique_order_id = np.unique(dat[\"order_id\"])\n",
    "for un_order_id in unique_order_id:\n",
    "    items_price_in_one_order = dat[dat[\"order_id\"] == un_order_id][\"item_price\"]\n",
    "    mean_item_price_by_order_id.append(np.mean(items_price_in_one_order))\n",
    "plt.figure(figsize=(16, 8))\n",
    "plt.plot(unique_order_id, mean_item_price_by_order_id)\n",
    "plt.xlabel(\"order_id\")\n",
    "plt.ylabel(\"Средняя стоимость заказа\")\n",
    "plt.title(\"Линейный график (plt.plot) изменения средней стоимости заказа в зависимости от order_id\")\n",
    "plt.show()"
   ]
  }
 ],
 "metadata": {
  "kernelspec": {
   "display_name": "Python 3",
   "language": "python",
   "name": "python3"
  },
  "language_info": {
   "codemirror_mode": {
    "name": "ipython",
    "version": 3
   },
   "file_extension": ".py",
   "mimetype": "text/x-python",
   "name": "python",
   "nbconvert_exporter": "python",
   "pygments_lexer": "ipython3",
   "version": "3.7.2"
  }
 },
 "nbformat": 4,
 "nbformat_minor": 2
}
